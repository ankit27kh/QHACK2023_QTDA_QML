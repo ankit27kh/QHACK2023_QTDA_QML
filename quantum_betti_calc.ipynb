{
 "cells": [
  {
   "cell_type": "code",
   "execution_count": 1,
   "id": "2b043bea-b5dd-4e8e-9aec-a18be2458065",
   "metadata": {
    "tags": []
   },
   "outputs": [],
   "source": [
    "import pennylane.numpy as np\n",
    "from scipy.linalg import null_space, eigvals, expm\n",
    "import pennylane as qml\n",
    "from itertools import combinations\n",
    "from classical_betti_calc import boundary, homology, betti\n",
    "from utils import gershgorin, find_cliques"
   ]
  },
  {
   "cell_type": "code",
   "execution_count": 2,
   "id": "6ff0d2ec-6ebc-461b-984f-23e5bfbc5c81",
   "metadata": {
    "tags": []
   },
   "outputs": [],
   "source": [
    "np.random.seed(0)\n",
    "np.set_printoptions(precision=4)"
   ]
  },
  {
   "cell_type": "code",
   "execution_count": 3,
   "id": "1b056951-df1d-4edc-909b-8f50542460b3",
   "metadata": {
    "tags": []
   },
   "outputs": [],
   "source": [
    "# Create random edges\n",
    "edges = set(map(\"\".join, combinations(\"0123456789\", 2)))  # Vertex labels -> Number of vertices\n",
    "for _ in range(int(len(edges) * 0.3)):  # Remove 30% of edges\n",
    "    edges.pop()"
   ]
  },
  {
   "cell_type": "code",
   "execution_count": 4,
   "id": "09623c05-e9f1-47f4-8c19-3301fb39ec0e",
   "metadata": {
    "tags": []
   },
   "outputs": [],
   "source": [
    "# Generate a simplicial complex\n",
    "sxs = find_cliques(edges)\n",
    "sxs1 = set()\n",
    "for u in sxs[1:]:\n",
    "    sxs1 = sxs1.union(u)\n",
    "sc = list(sxs1)"
   ]
  },
  {
   "cell_type": "code",
   "execution_count": 5,
   "id": "95cdf94a-aa4b-4768-b864-b6613e49b70b",
   "metadata": {
    "tags": []
   },
   "outputs": [],
   "source": [
    "# Randomly remove some simplicies to increase betti number values\n",
    "# This might not technically fulfill all conditions for a simplicial complex but works as demonstration\n",
    "np.random.shuffle(sc)\n",
    "sc = sc[: int(len(sc) * 0.3)]\n",
    "sc.extend(list(sxs[1]))\n",
    "sc = list(set(sc))\n",
    "sc.sort()"
   ]
  },
  {
   "cell_type": "code",
   "execution_count": 6,
   "id": "800a8537-0dc2-4810-80c3-de01454b3ed0",
   "metadata": {
    "tags": []
   },
   "outputs": [
    {
     "name": "stdout",
     "output_type": "stream",
     "text": [
      "Betti Numbers: [2, 0, 4, 2, 0]\n"
     ]
    }
   ],
   "source": [
    "# Classically calculate betti numbers\n",
    "bnd, simplicies = boundary(sc)  # Boundary operators\n",
    "Homo = homology(bnd)\n",
    "b = betti(Homo)  # Betti numbers\n",
    "print(\"Betti Numbers:\", b)"
   ]
  },
  {
   "cell_type": "code",
   "execution_count": 7,
   "id": "5b6fc3af-7739-4161-bfd1-a05127e1928a",
   "metadata": {
    "tags": []
   },
   "outputs": [],
   "source": [
    "# Quantum calculation for k-th betti number\n",
    "k = 0\n",
    "# Min and max precision qubits to use for QPE\n",
    "min_pre = 1\n",
    "max_pre = 10"
   ]
  },
  {
   "cell_type": "code",
   "execution_count": 8,
   "id": "e31c9277-e9fd-43f7-ac36-f922e20b3d99",
   "metadata": {
    "tags": []
   },
   "outputs": [
    {
     "name": "stdout",
     "output_type": "stream",
     "text": [
      "Betti number 0: 2 2\n"
     ]
    }
   ],
   "source": [
    "# Calculate the combinatorial laplacian and verify betti number classically\n",
    "comb_lap = bnd[k].T @ bnd[k] + bnd[k + 1] @ bnd[k + 1].T\n",
    "kernel_cp = null_space(comb_lap)\n",
    "betti_k_dim = kernel_cp.shape[1]\n",
    "# This is the value we want to estimate using quantum computing\n",
    "betti_k_zero_eig = np.count_nonzero(np.absolute(eigvals(comb_lap)) < 10**-7)\n",
    "print(f\"Betti number {k}:\", betti_k_dim, betti_k_zero_eig)\n",
    "num = int(np.ceil(np.log2(comb_lap.shape[0])))"
   ]
  },
  {
   "cell_type": "code",
   "execution_count": 9,
   "id": "0314c334-0131-43dd-a03b-6d75c3ca348d",
   "metadata": {
    "tags": []
   },
   "outputs": [],
   "source": [
    "# Estimate max eigenvalue\n",
    "max_eig = max(gershgorin(comb_lap), 1)"
   ]
  },
  {
   "cell_type": "code",
   "execution_count": 10,
   "id": "af134189-96c7-43b0-a6ba-7da26a6de6e8",
   "metadata": {
    "tags": []
   },
   "outputs": [],
   "source": [
    "# Unitary generation for QPE\n",
    "# Padding to make size a power of 2\n",
    "# Scaling to get eigenvalues in [0,1)\n",
    "H = np.identity(2**num) * max_eig / 2\n",
    "H[: comb_lap.shape[0], : comb_lap.shape[0]] = comb_lap\n",
    "H = H / max_eig * 6\n",
    "U = expm(1j * H)"
   ]
  },
  {
   "cell_type": "code",
   "execution_count": 11,
   "id": "e7836e00-7107-475b-9518-ec8ca9f1ffbc",
   "metadata": {
    "tags": []
   },
   "outputs": [
    {
     "name": "stdout",
     "output_type": "stream",
     "text": [
      "Number of precision qubits | Estimated betti number with respective shots | Absolute error\n",
      "1 [8.     8.16   7.088  7.3168 7.3922 7.3898] [6.     6.16   5.088  5.3168 5.3922 5.3898]\n",
      "2 [1.6    3.2    4.96   5.28   5.2458 5.2461] [0.4    1.2    2.96   3.28   3.2458 3.2461]\n",
      "3 [4.8    3.36   3.168  3.4624 3.4026 3.4268] [2.8    1.36   1.168  1.4624 1.4026 1.4268]\n",
      "4 [0.     1.92   2.448  2.296  2.289  2.3218] [2.     0.08   0.448  0.296  0.289  0.3218]\n",
      "5 [1.6    1.6    2.112  2.0512 2.0922 2.0956] [0.4    0.4    0.112  0.0512 0.0922 0.0956]\n",
      "6 [1.6    2.88   2.08   1.944  2.0072 2.0146] [0.4    0.88   0.08   0.056  0.0072 0.0146]\n",
      "7 [3.2    2.56   1.968  1.8896 2.021  2.0019] [1.2    0.56   0.032  0.1104 0.021  0.0019]\n",
      "8 [0.     0.64   2.112  2.0512 2.0165 1.996 ] [2.     1.36   0.112  0.0512 0.0165 0.004 ]\n",
      "9 [0.     1.6    2.16   2.064  2.0078 2.0053] [2.     0.4    0.16   0.064  0.0078 0.0053]\n",
      "10 [1.6    2.4    2.128  1.9728 2.0062 2.0059] [0.4    0.4    0.128  0.0272 0.0062 0.0059]\n"
     ]
    }
   ],
   "source": [
    "print(\n",
    "    \"Number of precision qubits\",\n",
    "    \"|\",\n",
    "    \"Estimated betti number with respective shots\",\n",
    "    \"|\",\n",
    "    \"Absolute error\",\n",
    ")\n",
    "for pre in range(min_pre, max_pre + 1):\n",
    "    dev = qml.device(\n",
    "        \"lightning.qubit\",\n",
    "        wires=2 * num + pre,\n",
    "        shots=[10**1, 10**2, 10**3, 10**4, 10**5, 10**6],\n",
    "    )\n",
    "\n",
    "    @qml.qnode(dev)\n",
    "    def circ():\n",
    "        for i in range(num):\n",
    "            qml.Hadamard(num + i)\n",
    "        for i in range(num):\n",
    "            qml.CNOT([num + i, i])\n",
    "        qml.QuantumPhaseEstimation(\n",
    "            U,\n",
    "            target_wires=range(num, 2 * num),\n",
    "            estimation_wires=range(2 * num, 2 * num + pre),\n",
    "        )\n",
    "        return qml.probs(range(2 * num, 2 * num + pre))\n",
    "\n",
    "    probs = circ()\n",
    "    print(\n",
    "        pre,\n",
    "        probs[:, 0] * 2**num,\n",
    "        np.abs((betti_k_zero_eig - probs[:, 0] * 2**num)),\n",
    "    )"
   ]
  },
  {
   "cell_type": "code",
   "execution_count": 12,
   "id": "75f93c1e-7a5b-4402-ac4f-dd0de7a5ff64",
   "metadata": {
    "tags": []
   },
   "outputs": [
    {
     "name": "stdout",
     "output_type": "stream",
     "text": [
      "Quantum Circuit\n",
      " 0: ────╭X──────────────────────────────────────────────────────────────────────────────────────┤       \n",
      " 1: ────│──╭X───────────────────────────────────────────────────────────────────────────────────┤       \n",
      " 2: ────│──│──╭X────────────────────────────────────────────────────────────────────────────────┤       \n",
      " 3: ────│──│──│──╭X─────────────────────────────────────────────────────────────────────────────┤       \n",
      " 4: ──H─╰●─│──│──│──╭U(M0)─╭U(M1)─╭U(M2)─╭U(M3)─╭U(M4)─╭U(M5)─╭U(M6)─╭U(M7)─╭U(M8)─╭U(M9)───────┤       \n",
      " 5: ──H────╰●─│──│──├U(M0)─├U(M1)─├U(M2)─├U(M3)─├U(M4)─├U(M5)─├U(M6)─├U(M7)─├U(M8)─├U(M9)───────┤       \n",
      " 6: ──H───────╰●─│──├U(M0)─├U(M1)─├U(M2)─├U(M3)─├U(M4)─├U(M5)─├U(M6)─├U(M7)─├U(M8)─├U(M9)───────┤       \n",
      " 7: ──H──────────╰●─├U(M0)─├U(M1)─├U(M2)─├U(M3)─├U(M4)─├U(M5)─├U(M6)─├U(M7)─├U(M8)─├U(M9)───────┤       \n",
      " 8: ──H─────────────╰●─────│──────│──────│──────│──────│──────│──────│──────│──────│──────╭QFT†─┤ ╭Probs\n",
      " 9: ──H────────────────────╰●─────│──────│──────│──────│──────│──────│──────│──────│──────├QFT†─┤ ├Probs\n",
      "10: ──H───────────────────────────╰●─────│──────│──────│──────│──────│──────│──────│──────├QFT†─┤ ├Probs\n",
      "11: ──H──────────────────────────────────╰●─────│──────│──────│──────│──────│──────│──────├QFT†─┤ ├Probs\n",
      "12: ──H─────────────────────────────────────────╰●─────│──────│──────│──────│──────│──────├QFT†─┤ ├Probs\n",
      "13: ──H────────────────────────────────────────────────╰●─────│──────│──────│──────│──────├QFT†─┤ ├Probs\n",
      "14: ──H───────────────────────────────────────────────────────╰●─────│──────│──────│──────├QFT†─┤ ├Probs\n",
      "15: ──H──────────────────────────────────────────────────────────────╰●─────│──────│──────├QFT†─┤ ├Probs\n",
      "16: ──H─────────────────────────────────────────────────────────────────────╰●─────│──────├QFT†─┤ ├Probs\n",
      "17: ──H────────────────────────────────────────────────────────────────────────────╰●─────╰QFT†─┤ ╰Probs\n"
     ]
    }
   ],
   "source": [
    "print(\"Quantum Circuit\")\n",
    "print(\n",
    "    qml.draw(\n",
    "        circ,\n",
    "        show_all_wires=True,\n",
    "        show_matrices=False,\n",
    "        max_length=10000,\n",
    "        expansion_strategy=\"device\",\n",
    "    )()\n",
    ")\n"
   ]
  }
 ],
 "metadata": {
  "kernelspec": {
   "display_name": "Python 3 (ipykernel)",
   "language": "python",
   "name": "python3"
  },
  "language_info": {
   "codemirror_mode": {
    "name": "ipython",
    "version": 3
   },
   "file_extension": ".py",
   "mimetype": "text/x-python",
   "name": "python",
   "nbconvert_exporter": "python",
   "pygments_lexer": "ipython3",
   "version": "3.10.9"
  }
 },
 "nbformat": 4,
 "nbformat_minor": 5
}
