{
 "cells": [
  {
   "cell_type": "code",
   "execution_count": 1,
   "id": "db12f9c3",
   "metadata": {},
   "outputs": [],
   "source": [
    "#!pip install qiskit\n",
    "#!pip install qiskit_braket_provider\n",
    "#!pip install tadasets\n",
    "#!pip install gudhi"
   ]
  },
  {
   "cell_type": "code",
   "execution_count": 2,
   "id": "070f553b",
   "metadata": {},
   "outputs": [],
   "source": [
    "from qiskit_braket_provider import BraketLocalBackend, AWSBraketProvider\n",
    "from qiskit.extensions import HamiltonianGate\n",
    "from qiskit import QuantumCircuit, transpile\n",
    "import numpy as np\n",
    "import tadasets\n",
    "from classical_betti_calc import boundary, homology, betti\n",
    "from utils import make_simplicies,gershgorin\n",
    "import matplotlib.pyplot as plt\n",
    "\n",
    "np.random.seed(0)"
   ]
  },
  {
   "cell_type": "code",
   "execution_count": 3,
   "id": "0f97d73f",
   "metadata": {},
   "outputs": [
    {
     "name": "stdout",
     "output_type": "stream",
     "text": [
      "start\n"
     ]
    }
   ],
   "source": [
    "print(\"start\")\n",
    "provider = AWSBraketProvider()\n",
    "local_simulator = BraketLocalBackend()\n",
    "aws_simulator_sv = provider.get_backend(\"SV1\")\n",
    "aws_simulator_dm = provider.get_backend(\"dm1\")\n",
    "\n",
    "# Select simulator to use\n",
    "simulator_to_use = aws_simulator_sv"
   ]
  },
  {
   "cell_type": "code",
   "execution_count": 4,
   "id": "25d1308b",
   "metadata": {},
   "outputs": [],
   "source": [
    "shots = 10000"
   ]
  },
  {
   "cell_type": "code",
   "execution_count": 5,
   "id": "c7ab4159",
   "metadata": {},
   "outputs": [],
   "source": [
    "def qft_dagger(qc, n):\n",
    "    \"\"\"n-qubit QFTdagger the first n qubits in circ\"\"\"\n",
    "    for qubit in range(n // 2):\n",
    "        qc.swap(qubit, n - qubit - 1)\n",
    "    for j in range(n):\n",
    "        for m in range(j):\n",
    "            qc.cp(-np.pi / float(2 ** (j - m)), m, j)\n",
    "        qc.h(j)"
   ]
  },
  {
   "cell_type": "code",
   "execution_count": 6,
   "id": "ce75cbff",
   "metadata": {},
   "outputs": [],
   "source": [
    "# For use with a simulator, we consider demonstrative examples with few points\n",
    "# 20 points are sampled for both shapes and embedded to a 10D ambient space\n",
    "example_torus = tadasets.torus(n=20, c=5, a=1, ambient=10, noise=0)\n",
    "example_swiss_roll = tadasets.swiss_roll(n=20, r=5, ambient=10, noise=0)\n",
    "\n",
    "scs = make_simplicies([example_torus, example_swiss_roll], 2, 5)"
   ]
  },
  {
   "cell_type": "code",
   "execution_count": 7,
   "id": "d0fd378e",
   "metadata": {},
   "outputs": [
    {
     "name": "stdout",
     "output_type": "stream",
     "text": [
      "The Betti number 0 of the Torus is 7\n",
      "The estimated Betti number (k=0) of the Torus is 11.8592 using 1 qubits for estimation in QPE\n",
      "The estimated Betti number (k=0) of the Torus is 9.2672 using 2 qubits for estimation in QPE\n",
      "The estimated Betti number (k=0) of the Torus is 7.4816 using 3 qubits for estimation in QPE\n",
      "The Betti number 0 of the Swiss roll is 16\n",
      "The estimated Betti number (k=0) of the Swiss roll is 20.1472 using 1 qubits for estimation in QPE\n",
      "The estimated Betti number (k=0) of the Swiss roll is 19.504 using 2 qubits for estimation in QPE\n",
      "The estimated Betti number (k=0) of the Swiss roll is 18.8928 using 3 qubits for estimation in QPE\n"
     ]
    }
   ],
   "source": [
    "for j, sc in enumerate(scs):\n",
    "    bnd, simplicies = boundary(sc)\n",
    "    b = betti(homology(bnd))\n",
    "\n",
    "    if j < 1:\n",
    "        print(\"The Betti number 0 of the Torus is\", b[0])\n",
    "    else:\n",
    "        print(\"The Betti number 0 of the Swiss roll is\", b[0])\n",
    "\n",
    "    for precision_qubits in range(1, 4):\n",
    "        k = 0  # We are only estimating Betti number 0\n",
    "        comb_lap = bnd[k].T @ bnd[k] + bnd[k + 1] @ bnd[k + 1].T\n",
    "        num = int(np.ceil(np.log2(comb_lap.shape[0])))\n",
    "        max_eig = max(gershgorin(comb_lap), 1)\n",
    "        H = np.identity(2**num) * max_eig / 2\n",
    "        H[: comb_lap.shape[0], : comb_lap.shape[0]] = comb_lap\n",
    "        H = H / max_eig * 6\n",
    "        U = HamiltonianGate(H, -1)\n",
    "        qc = QuantumCircuit(2 * num + precision_qubits, precision_qubits)\n",
    "        qc.h(range(precision_qubits, num + precision_qubits))\n",
    "        for i in range(num):\n",
    "            qc.cx(i + precision_qubits, i + num + precision_qubits)\n",
    "        qc.barrier()\n",
    "        qc.h(range(precision_qubits))\n",
    "        for i in range(1, precision_qubits + 1):\n",
    "            qc.append(\n",
    "                (U.power(2 ** (precision_qubits - i))).control(1),\n",
    "                [i - 1] + list(range(precision_qubits, num + precision_qubits)),\n",
    "            )\n",
    "        qc.barrier()\n",
    "        qft_dagger(qc, precision_qubits)\n",
    "        qc.barrier()\n",
    "        qc.measure(range(precision_qubits), range(precision_qubits))\n",
    "\n",
    "        qc2 = transpile(qc, simulator_to_use, seed_transpiler=0)\n",
    "\n",
    "        task = simulator_to_use.run(qc2, shots=shots)\n",
    "        counts = task.result().get_counts()\n",
    "        zero_counts = 0\n",
    "        for state, count in counts.items():\n",
    "            if state[::-1][:precision_qubits] == \"0\" * precision_qubits:\n",
    "                zero_counts = zero_counts + count\n",
    "        qb_k = (zero_counts / shots) * 2**num\n",
    "        \n",
    "        if j < 1:\n",
    "            print(\n",
    "                \"The estimated Betti number (k=0) of the Torus is\",\n",
    "                qb_k,\n",
    "                \"using\",\n",
    "                precision_qubits,\n",
    "                \"qubits for estimation in QPE\",\n",
    "            )\n",
    "        else:\n",
    "            print(\n",
    "                \"The estimated Betti number (k=0) of the Swiss roll is\",\n",
    "                qb_k,\n",
    "                \"using\",\n",
    "                precision_qubits,\n",
    "                \"qubits for estimation in QPE\",\n",
    "            )"
   ]
  },
  {
   "cell_type": "code",
   "execution_count": 8,
   "id": "f071e1d5",
   "metadata": {},
   "outputs": [
    {
     "name": "stdout",
     "output_type": "stream",
     "text": [
      "Finish\n"
     ]
    }
   ],
   "source": [
    "print(\"Finish\")"
   ]
  },
  {
   "cell_type": "markdown",
   "id": "addfaccf",
   "metadata": {},
   "source": [
    "When using the local_simulator we got these results:\n",
    "```\n",
    "start\n",
    "The Betti number 0 of the Torus is 7\n",
    "The estimated Betti number (k=0) of the Torus is 12.144 using 1 qubits for estimation in QPE\n",
    "The estimated Betti number (k=0) of the Torus is 9.6512 using 2 qubits for estimation in QPE\n",
    "The estimated Betti number (k=0) of the Torus is 7.7344 using 3 qubits for estimation in QPE\n",
    "The estimated Betti number (k=0) of the Torus is 7.1648 using 4 qubits for estimation in QPE\n",
    "The estimated Betti number (k=0) of the Torus is 7.1456 using 5 qubits for estimation in QPE\n",
    "The estimated Betti number (k=0) of the Torus is 7.1264 using 6 qubits for estimation in QPE\n",
    "The estimated Betti number (k=0) of the Torus is 6.976 using 7 qubits for estimation in QPE\n",
    "The estimated Betti number (k=0) of the Torus is 7.072 using 8 qubits for estimation in QPE\n",
    "The Betti number 0 of the Swiss roll is 16\n",
    "The estimated Betti number (k=0) of the Swiss roll is 19.84 using 1 qubits for estimation in QPE\n",
    "The estimated Betti number (k=0) of the Swiss roll is 19.3408 using 2 qubits for estimation in QPE\n",
    "The estimated Betti number (k=0) of the Swiss roll is 18.5536 using 3 qubits for estimation in QPE\n",
    "The estimated Betti number (k=0) of the Swiss roll is 16.3904 using 4 qubits for estimation in QPE\n",
    "The estimated Betti number (k=0) of the Swiss roll is 16.2368 using 5 qubits for estimation in QPE\n",
    "The estimated Betti number (k=0) of the Swiss roll is 16.0256 using 6 qubits for estimation in QPE\n",
    "The estimated Betti number (k=0) of the Swiss roll is 15.6896 using 7 qubits for estimation in QPE\n",
    "The estimated Betti number (k=0) of the Swiss roll is 15.9104 using 8 qubits for estimation in QPE\n",
    "Finish\n",
    "```\n",
    "\n",
    "\n",
    "<img src='images/torus_res.png' />\n",
    "<br>\n",
    "<img src='images/swiss_res.png' />"
   ]
  },
  {
   "cell_type": "markdown",
   "id": "b1c1ea32",
   "metadata": {},
   "source": [
    "This demonstrates that the answer converges to the correct value with increasing number of precision qubits."
   ]
  },
  {
   "cell_type": "code",
   "execution_count": null,
   "id": "507dbf4f",
   "metadata": {},
   "outputs": [],
   "source": []
  }
 ],
 "metadata": {
  "kernelspec": {
   "display_name": "conda_braket",
   "language": "python",
   "name": "conda_braket"
  },
  "language_info": {
   "codemirror_mode": {
    "name": "ipython",
    "version": 3
   },
   "file_extension": ".py",
   "mimetype": "text/x-python",
   "name": "python",
   "nbconvert_exporter": "python",
   "pygments_lexer": "ipython3",
   "version": "3.7.12"
  }
 },
 "nbformat": 4,
 "nbformat_minor": 5
}
